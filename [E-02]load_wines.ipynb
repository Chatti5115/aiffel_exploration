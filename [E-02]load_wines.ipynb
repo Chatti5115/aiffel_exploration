{
 "cells": [
  {
   "cell_type": "code",
   "execution_count": 42,
   "id": "ea54d0f4",
   "metadata": {},
   "outputs": [],
   "source": [
    "from sklearn import datasets, tree\n",
    "from sklearn.ensemble import RandomForestClassifier\n",
    "from sklearn.model_selection import cross_val_score, train_test_split\n",
    "from sklearn.metrics import accuracy_score\n",
    "from sklearn.svm import SVC\n",
    "from sklearn.linear_model import SGDClassifier\n",
    "from sklearn.linear_model import LogisticRegression\n",
    "import matplotlib.pyplot as plt\n",
    "import pandas as pd\n",
    "import numpy as np"
   ]
  },
  {
   "cell_type": "code",
   "execution_count": 43,
   "id": "588c951c",
   "metadata": {},
   "outputs": [],
   "source": [
    "%config Completer.use_jedi = False"
   ]
  },
  {
   "cell_type": "markdown",
   "id": "1b1e423b",
   "metadata": {},
   "source": [
    "# 아래에서 random_state 를 주지 않으면 맨아래 predict accuracy 가 1.0 이 나온다"
   ]
  },
  {
   "cell_type": "code",
   "execution_count": 44,
   "id": "54a72c58",
   "metadata": {},
   "outputs": [],
   "source": [
    "mnist = datasets.load_wine()\n",
    "features, labels = mnist.data, mnist.target\n",
    "X_train, X_test, y_train, y_test = train_test_split(features, labels, test_size = 0.2, random_state = 121, shuffle= True)"
   ]
  },
  {
   "cell_type": "code",
   "execution_count": 51,
   "id": "4a370ab5",
   "metadata": {},
   "outputs": [
    {
     "name": "stdout",
     "output_type": "stream",
     "text": [
      "[0.8591503267973856, 0.8480392156862745, 0.8594771241830067, 0.8705882352941178, 0.8705882352941178, 0.8761437908496731, 0.8702614379084966, 0.8594771241830067, 0.8761437908496731, 0.865032679738562]\n",
      "[0.9833333333333332, 0.9777777777777779, 0.9777777777777779, 0.9833333333333332, 0.9777777777777779, 0.9833333333333334, 0.9833333333333332, 0.9777777777777779, 0.9833333333333334, 0.9777777777777779]\n",
      "[0.681045751633987, 0.681045751633987, 0.681045751633987, 0.681045751633987, 0.681045751633987, 0.681045751633987, 0.681045751633987, 0.681045751633987, 0.681045751633987, 0.681045751633987]\n",
      "[0.5663398692810457, 0.5797385620915033, 0.5905228758169934, 0.5839869281045751, 0.5330065359477124, 0.5666666666666667, 0.6303921568627451, 0.6016339869281045, 0.6258169934640522, 0.5431372549019609]\n",
      "[0.9555555555555555, 0.9555555555555555, 0.9555555555555555, 0.9555555555555555, 0.9555555555555555, 0.9555555555555555, 0.9555555555555555, 0.9555555555555555, 0.9555555555555555, 0.9555555555555555]\n"
     ]
    }
   ],
   "source": [
    "def cross_validation(classifier, features, labels):\n",
    "  cv_scores = []\n",
    "  for i in range(10):\n",
    "    scores = cross_val_score(classifier, features, labels, cv=10, scoring='accuracy')\n",
    "    cv_scores.append(scores.mean())\n",
    "  return cv_scores\n",
    "\n",
    "dt_cv_scores = cross_validation(tree.DecisionTreeClassifier(), features, labels) \n",
    "print(dt_cv_scores)\n",
    "rf_cv_scores = cross_validation(RandomForestClassifier(), features, labels) \n",
    "print(rf_cv_scores)\n",
    "svc_cv_scores = cross_validation(SVC(), features, labels) \n",
    "print(svc_cv_scores)\n",
    "sgd_cv_scores = cross_validation(SGDClassifier(), features, labels) \n",
    "print(sgd_cv_scores)\n",
    "logistic_cv_scores = cross_validation(LogisticRegression(solver='liblinear', max_iter=100), features, labels) \n",
    "print(logistic_cv_scores)"
   ]
  },
  {
   "cell_type": "code",
   "execution_count": 52,
   "id": "d5475093",
   "metadata": {},
   "outputs": [
    {
     "data": {
      "text/plain": [
       "<AxesSubplot:>"
      ]
     },
     "execution_count": 52,
     "metadata": {},
     "output_type": "execute_result"
    },
    {
     "data": {
      "image/png": "[encoded data removed]",
      "text/plain": [
       "<Figure size 432x288 with 1 Axes>"
      ]
     },
     "metadata": {
      "needs_background": "light"
     },
     "output_type": "display_data"
    }
   ],
   "source": [
    "cv_list = [\n",
    "           ['random_forest', rf_cv_scores],\n",
    "           ['decision_tree', dt_cv_scores], \n",
    "           ['SVM', svc_cv_scores], \n",
    "           ['SGD', sgd_cv_scores], \n",
    "           ['logistic_regression', logistic_cv_scores], \n",
    "          ]\n",
    "df = pd.DataFrame.from_dict(dict(cv_list))\n",
    "df.plot()"
   ]
  },
  {
   "cell_type": "code",
   "execution_count": 53,
   "id": "b252bea5",
   "metadata": {},
   "outputs": [
    {
     "name": "stdout",
     "output_type": "stream",
     "text": [
      "0.8654901960784314\n",
      "0.9805555555555557\n",
      "0.681045751633987\n",
      "0.5821241830065358\n",
      "0.9555555555555555\n"
     ]
    }
   ],
   "source": [
    "#의사결정 트리의 정확도\n",
    "print(np.mean(dt_cv_scores))\n",
    "#랜덤 포레스트의 정확도\n",
    "print(np.mean(rf_cv_scores))\n",
    "print(np.mean(svc_cv_scores))\n",
    "print(np.mean(sgd_cv_scores))\n",
    "print(np.mean(logistic_cv_scores))"
   ]
  },
  {
   "cell_type": "code",
   "execution_count": 54,
   "id": "a0c5fdc1",
   "metadata": {},
   "outputs": [
    {
     "data": {
      "text/html": [
       "<style>#sk-container-id-7 {color: black;background-color: white;}#sk-container-id-7 pre{padding: 0;}#sk-container-id-7 div.sk-toggleable {background-color: white;}#sk-container-id-7 label.sk-toggleable__label {cursor: pointer;display: block;width: 100%;margin-bottom: 0;padding: 0.3em;box-sizing: border-box;text-align: center;}#sk-container-id-7 label.sk-toggleable__label-arrow:before {content: \"▸\";float: left;margin-right: 0.25em;color: #696969;}#sk-container-id-7 label.sk-toggleable__label-arrow:hover:before {color: black;}#sk-container-id-7 div.sk-estimator:hover label.sk-toggleable__label-arrow:before {color: black;}#sk-container-id-7 div.sk-toggleable__content {max-height: 0;max-width: 0;overflow: hidden;text-align: left;background-color: #f0f8ff;}#sk-container-id-7 div.sk-toggleable__content pre {margin: 0.2em;color: black;border-radius: 0.25em;background-color: #f0f8ff;}#sk-container-id-7 input.sk-toggleable__control:checked~div.sk-toggleable__content {max-height: 200px;max-width: 100%;overflow: auto;}#sk-container-id-7 input.sk-toggleable__control:checked~label.sk-toggleable__label-arrow:before {content: \"▾\";}#sk-container-id-7 div.sk-estimator input.sk-toggleable__control:checked~label.sk-toggleable__label {background-color: #d4ebff;}#sk-container-id-7 div.sk-label input.sk-toggleable__control:checked~label.sk-toggleable__label {background-color: #d4ebff;}#sk-container-id-7 input.sk-hidden--visually {border: 0;clip: rect(1px 1px 1px 1px);clip: rect(1px, 1px, 1px, 1px);height: 1px;margin: -1px;overflow: hidden;padding: 0;position: absolute;width: 1px;}#sk-container-id-7 div.sk-estimator {font-family: monospace;background-color: #f0f8ff;border: 1px dotted black;border-radius: 0.25em;box-sizing: border-box;margin-bottom: 0.5em;}#sk-container-id-7 div.sk-estimator:hover {background-color: #d4ebff;}#sk-container-id-7 div.sk-parallel-item::after {content: \"\";width: 100%;border-bottom: 1px solid gray;flex-grow: 1;}#sk-container-id-7 div.sk-label:hover label.sk-toggleable__label {background-color: #d4ebff;}#sk-container-id-7 div.sk-serial::before {content: \"\";position: absolute;border-left: 1px solid gray;box-sizing: border-box;top: 0;bottom: 0;left: 50%;z-index: 0;}#sk-container-id-7 div.sk-serial {display: flex;flex-direction: column;align-items: center;background-color: white;padding-right: 0.2em;padding-left: 0.2em;position: relative;}#sk-container-id-7 div.sk-item {position: relative;z-index: 1;}#sk-container-id-7 div.sk-parallel {display: flex;align-items: stretch;justify-content: center;background-color: white;position: relative;}#sk-container-id-7 div.sk-item::before, #sk-container-id-7 div.sk-parallel-item::before {content: \"\";position: absolute;border-left: 1px solid gray;box-sizing: border-box;top: 0;bottom: 0;left: 50%;z-index: -1;}#sk-container-id-7 div.sk-parallel-item {display: flex;flex-direction: column;z-index: 1;position: relative;background-color: white;}#sk-container-id-7 div.sk-parallel-item:first-child::after {align-self: flex-end;width: 50%;}#sk-container-id-7 div.sk-parallel-item:last-child::after {align-self: flex-start;width: 50%;}#sk-container-id-7 div.sk-parallel-item:only-child::after {width: 0;}#sk-container-id-7 div.sk-dashed-wrapped {border: 1px dashed gray;margin: 0 0.4em 0.5em 0.4em;box-sizing: border-box;padding-bottom: 0.4em;background-color: white;}#sk-container-id-7 div.sk-label label {font-family: monospace;font-weight: bold;display: inline-block;line-height: 1.2em;}#sk-container-id-7 div.sk-label-container {text-align: center;}#sk-container-id-7 div.sk-container {/* jupyter's `normalize.less` sets `[hidden] { display: none; }` but bootstrap.min.css set `[hidden] { display: none !important; }` so we also need the `!important` here to be able to override the default hidden behavior on the sphinx rendered scikit-learn.org. See: https://github.com/scikit-learn/scikit-learn/issues/21755 */display: inline-block !important;position: relative;}#sk-container-id-7 div.sk-text-repr-fallback {display: none;}</style><div id=\"sk-container-id-7\" class=\"sk-top-container\"><div class=\"sk-text-repr-fallback\"><pre>RandomForestClassifier()</pre><b>In a Jupyter environment, please rerun this cell to show the HTML representation or trust the notebook. <br />On GitHub, the HTML representation is unable to render, please try loading this page with nbviewer.org.</b></div><div class=\"sk-container\" hidden><div class=\"sk-item\"><div class=\"sk-estimator sk-toggleable\"><input class=\"sk-toggleable__control sk-hidden--visually\" id=\"sk-estimator-id-7\" type=\"checkbox\" checked><label for=\"sk-estimator-id-7\" class=\"sk-toggleable__label sk-toggleable__label-arrow\">RandomForestClassifier</label><div class=\"sk-toggleable__content\"><pre>RandomForestClassifier()</pre></div></div></div></div></div>"
      ],
      "text/plain": [
       "RandomForestClassifier()"
      ]
     },
     "execution_count": 54,
     "metadata": {},
     "output_type": "execute_result"
    }
   ],
   "source": [
    "clf = RandomForestClassifier()\n",
    "clf.fit(X_train, y_train)"
   ]
  },
  {
   "cell_type": "code",
   "execution_count": 55,
   "id": "c1ec45ed",
   "metadata": {},
   "outputs": [
    {
     "name": "stdout",
     "output_type": "stream",
     "text": [
      "accuracy : 0.9444444444444444\n"
     ]
    }
   ],
   "source": [
    "pred = clf.predict(X_test)\n",
    "print(\"accuracy :\", str(accuracy_score(y_test, pred)))"
   ]
  },
  {
   "cell_type": "code",
   "execution_count": null,
   "id": "98839b87",
   "metadata": {},
   "outputs": [],
   "source": []
  }
 ],
 "metadata": {
  "kernelspec": {
   "display_name": "mask",
   "language": "python",
   "name": "maskyolov5project"
  },
  "language_info": {
   "codemirror_mode": {
    "name": "ipython",
    "version": 3
   },
   "file_extension": ".py",
   "mimetype": "text/x-python",
   "name": "python",
   "nbconvert_exporter": "python",
   "pygments_lexer": "ipython3",
   "version": "3.8.13"
  }
 },
 "nbformat": 4,
 "nbformat_minor": 5
}
